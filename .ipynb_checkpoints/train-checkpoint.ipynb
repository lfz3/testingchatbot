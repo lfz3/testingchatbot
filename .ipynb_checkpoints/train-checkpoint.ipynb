{
 "cells": [
  {
   "cell_type": "markdown",
   "id": "304f4e9f-c3c2-4b15-b5e6-5161bc9c782e",
   "metadata": {},
   "source": [
    "### Start of code"
   ]
  },
  {
   "cell_type": "code",
   "execution_count": 57,
   "id": "d4a1b5a4-9148-4039-9417-0808908dff20",
   "metadata": {},
   "outputs": [],
   "source": [
    "import json\n",
    "from nltk_utils import tokenize, lemm, remove_punctuation, bag_of_words\n",
    "import numpy as np\n",
    "import torch\n",
    "import torch.nn as nn\n",
    "from torch.utils.data import Dataset, DataLoader\n",
    "from model import NeuralNet\n",
    "from datetime import datetime\n",
    "import warnings\n",
    "import sys\n",
    "import matplotlib.pyplot as plt\n",
    "# Suppress all warnings\n",
    "warnings.filterwarnings(\"ignore\")"
   ]
  },
  {
   "cell_type": "code",
   "execution_count": 58,
   "id": "48eaec88-fa3f-48f7-bf36-44d468ef6fb1",
   "metadata": {},
   "outputs": [
    {
     "name": "stdout",
     "output_type": "stream",
     "text": [
      "2023-12-12 14:43:03\n",
      "C:\\Users\\Admin\\anaconda3\\envs\\pyenv\n",
      "cuda\n"
     ]
    }
   ],
   "source": [
    "#print out diff sys variables\n",
    "device = torch.device('cuda' if torch.cuda.is_available() else 'cpu')\n",
    "# Suppress all warnings\n",
    "warnings.filterwarnings(\"ignore\")\n",
    "# Get the current date and time\n",
    "current_datetime = datetime.now()\n",
    "formatted_datetime = current_datetime.strftime(\"%Y-%m-%d %H:%M:%S\")\n",
    "print(formatted_datetime)\n",
    "print(sys.prefix)\n",
    "print(device)"
   ]
  },
  {
   "cell_type": "code",
   "execution_count": 60,
   "id": "224a9173-1553-41ec-88f3-5ffb940fac33",
   "metadata": {},
   "outputs": [],
   "source": [
    "with open('shrunken_data4.json', 'r', encoding=\"utf8\") as file:\n",
    "#with open('intents.json', 'r', encoding=\"utf8\") as file:\n",
    "    intents = json.load(file)\n",
    "\n",
    "all_words = []\n",
    "tags = []\n",
    "pattern_with_tag = []"
   ]
  },
  {
   "cell_type": "code",
   "execution_count": 61,
   "id": "0d18e221-c601-4ed2-a02b-aa2cba4d5ac9",
   "metadata": {},
   "outputs": [],
   "source": [
    "# Extract the words from the patterns in intents.json and lemmatize them\n",
    "for intent in intents['intents']:\n",
    "    tag = intent['tag']\n",
    "    tags.append(tag)\n",
    "    for pattern in intent['patterns']:\n",
    "        tokenized_words = tokenize(pattern)\n",
    "        all_words.extend(tokenized_words)\n",
    "        pattern_with_tag.append((tokenized_words, tag))\n",
    "\n",
    "all_words = remove_punctuation(all_words)\n",
    "all_words = [lemm(word) for word in all_words]\n",
    "\n",
    "all_words = sorted(set(all_words))\n",
    "tags = sorted(set(tags))\n",
    "\n",
    "patterns_train = []\n",
    "tags_train = []"
   ]
  },
  {
   "cell_type": "code",
   "execution_count": 62,
   "id": "5a3c56d0-f93c-4584-8ebd-872e87358078",
   "metadata": {},
   "outputs": [],
   "source": [
    "# Make bag of words array for each word\n",
    "for (pattern_sentence, tag) in pattern_with_tag:\n",
    "    bag = bag_of_words(pattern_sentence, all_words)\n",
    "    patterns_train.append(bag)\n",
    "\n",
    "    label = tags.index(tag)\n",
    "    tags_train.append(label)\n",
    "\n",
    "patterns_train = np.array(patterns_train)\n",
    "tags_train = np.array(tags_train)"
   ]
  },
  {
   "cell_type": "code",
   "execution_count": 63,
   "id": "659629df-f112-47e2-a91f-1131eea69991",
   "metadata": {},
   "outputs": [
    {
     "name": "stdout",
     "output_type": "stream",
     "text": [
      "1605\n"
     ]
    }
   ],
   "source": [
    "print(len(patterns_train))"
   ]
  },
  {
   "cell_type": "code",
   "execution_count": 64,
   "id": "cf82eeb3-4ae8-4af0-82f3-66b97ec5ced3",
   "metadata": {},
   "outputs": [
    {
     "name": "stdout",
     "output_type": "stream",
     "text": [
      "[141 141 141 ... 145  21 438]\n"
     ]
    }
   ],
   "source": [
    "print(tags_train)"
   ]
  },
  {
   "cell_type": "code",
   "execution_count": 65,
   "id": "aecd25e9-6b73-4c74-9ed4-d50c042a950b",
   "metadata": {},
   "outputs": [],
   "source": [
    "# Create custom dataset for our problem\n",
    "class ChatbotDataset(Dataset):\n",
    "    def __init__(self):\n",
    "        self.samples_no = len(patterns_train)\n",
    "        self.patterns_data = patterns_train\n",
    "        self.tags_data = tags_train\n",
    "\n",
    "    def __getitem__(self, index):\n",
    "        return self.patterns_data[index], self.tags_data[index]\n",
    "\n",
    "    def __len__(self):\n",
    "        return self.samples_no"
   ]
  },
  {
   "cell_type": "code",
   "execution_count": 66,
   "id": "b881706d-762f-4ed4-933e-1b5dfe1aaf77",
   "metadata": {},
   "outputs": [],
   "source": [
    "# Hyper-parameters and early stopping variables\n",
    "batch_size = 4\n",
    "hidden_size = 8\n",
    "input_size = len(patterns_train[0])\n",
    "output_size = len(tags)\n",
    "learning_rate = 0.005\n",
    "num_epochs = 150\n",
    "loss_history = []\n",
    "accuracy_history = []\n",
    "\n",
    "early_stopping_patience = 10  # Number of epochs to wait for improvement\n",
    "best_validation_loss = float('inf')\n",
    "epochs_without_improvement = 0\n",
    "\n",
    "dataset = ChatbotDataset()\n",
    "train_loader = DataLoader(dataset=dataset, batch_size=batch_size, shuffle=True, num_workers=0)"
   ]
  },
  {
   "cell_type": "code",
   "execution_count": 67,
   "id": "eac0125b-14fc-4d11-be77-3da2d140fb36",
   "metadata": {},
   "outputs": [],
   "source": [
    "# create neuralnet model and the device on which we will perform the tasks\n",
    "model = NeuralNet(input_size, hidden_size, output_size).to(device)"
   ]
  },
  {
   "cell_type": "code",
   "execution_count": 68,
   "id": "c4d8a5cb-85bb-432a-9393-bf99244e551b",
   "metadata": {},
   "outputs": [],
   "source": [
    "# Loss and optimizer\n",
    "criterion = nn.CrossEntropyLoss()\n",
    "optimizer = torch.optim.Adam(model.parameters(), lr=learning_rate)"
   ]
  },
  {
   "cell_type": "markdown",
   "id": "46f1c336-cf20-4c56-8ef7-cb0c5af4fd7d",
   "metadata": {},
   "source": [
    "#### start the training"
   ]
  },
  {
   "cell_type": "code",
   "execution_count": 69,
   "id": "1ab75d1d-8159-44ba-8f5f-9054152ee139",
   "metadata": {},
   "outputs": [
    {
     "name": "stdout",
     "output_type": "stream",
     "text": [
      "Training...\n",
      "Early stopping after 84 epochs without improvement.\n",
      "Training done, with file saved to data.pth\n"
     ]
    }
   ],
   "source": [
    "print(\"Training...\")\n",
    "for epoch in range(num_epochs):\n",
    "    total_loss = 0\n",
    "    correct = 0\n",
    "    total = 0\n",
    "\n",
    "    for (words, labels) in train_loader:\n",
    "        words = words.to(device)\n",
    "        labels = labels.to(dtype=torch.long).to(device)\n",
    "\n",
    "        # Forward\n",
    "        outputs = model(words)\n",
    "        loss = criterion(outputs, labels)\n",
    "\n",
    "        # Backward and optimizer\n",
    "        optimizer.zero_grad()\n",
    "        loss.backward()\n",
    "        optimizer.step()\n",
    "\n",
    "        # Calculate accuracy\n",
    "        _, predicted = torch.max(outputs.data, 1)\n",
    "        total += labels.size(0)\n",
    "        correct += (predicted == labels).sum().item()\n",
    "\n",
    "        total_loss += loss.item()\n",
    "\n",
    "    average_loss = total_loss / len(train_loader)\n",
    "    accuracy = 100 * correct / total\n",
    "\n",
    "    loss_history.append(average_loss)\n",
    "    accuracy_history.append(accuracy)\n",
    "\n",
    "    if (epoch + 1) % 100 == 0:\n",
    "        print(f'Epoch [{epoch + 1}/{num_epochs}], Loss: {average_loss:.4f}, Accuracy: {accuracy:.2f}%')\n",
    "    \n",
    "    # Check for early stopping\n",
    "    if average_loss < best_validation_loss:\n",
    "        best_validation_loss = average_loss\n",
    "        epochs_without_improvement = 0\n",
    "    else:\n",
    "        epochs_without_improvement += 1\n",
    "\n",
    "    if epochs_without_improvement >= early_stopping_patience:\n",
    "        print(f'Early stopping after {epoch + 1} epochs without improvement.')\n",
    "        break  # Stop training\n",
    "\n",
    "# Save the model and other relevant data (outside the training loop)\n",
    "data = {\n",
    "    \"model_state\": model.state_dict(),\n",
    "    \"input_size\": input_size,\n",
    "    \"output_size\": output_size,\n",
    "    \"hidden_size\": hidden_size,\n",
    "    \"words\": all_words,\n",
    "    \"tags\": tags,\n",
    "}\n",
    "\n",
    "FILE = \"data.pth\"\n",
    "torch.save(data, FILE)\n",
    "\n",
    "print(f'Training done, with file saved to {FILE}')"
   ]
  },
  {
   "cell_type": "code",
   "execution_count": 70,
   "id": "194b0167-2546-4070-b2ec-bfb94e19de22",
   "metadata": {},
   "outputs": [
    {
     "data": {
      "image/png": "[encoded data removed]",
      "text/plain": [
       "<Figure size 1200x500 with 2 Axes>"
      ]
     },
     "metadata": {},
     "output_type": "display_data"
    }
   ],
   "source": [
    "plt.figure(figsize=(12, 5))\n",
    "\n",
    "plt.subplot(1, 2, 1)\n",
    "plt.plot(range(1, len(loss_history) + 1), loss_history, label='Loss', color='r')\n",
    "plt.title('Loss Over Epochs')\n",
    "plt.xlabel('Epoch')\n",
    "plt.ylabel('Loss')\n",
    "plt.legend()\n",
    "\n",
    "plt.subplot(1, 2, 2)\n",
    "plt.plot(range(1, len(accuracy_history) + 1), accuracy_history, label='Accuracy', color='b')\n",
    "plt.title('Accuracy Over Epochs')\n",
    "plt.xlabel('Epoch')\n",
    "plt.ylabel('Accuracy (%)')\n",
    "plt.legend()\n",
    "\n",
    "plt.tight_layout()\n",
    "plt.show()\n"
   ]
  },
  {
   "cell_type": "code",
   "execution_count": null,
   "id": "a5486971-b3ba-4308-ba0a-2c55c8339f95",
   "metadata": {},
   "outputs": [],
   "source": []
  }
 ],
 "metadata": {
  "kernelspec": {
   "display_name": "Python 3 (ipykernel)",
   "language": "python",
   "name": "python3"
  },
  "language_info": {
   "codemirror_mode": {
    "name": "ipython",
    "version": 3
   },
   "file_extension": ".py",
   "mimetype": "text/x-python",
   "name": "python",
   "nbconvert_exporter": "python",
   "pygments_lexer": "ipython3",
   "version": "3.8.18"
  }
 },
 "nbformat": 4,
 "nbformat_minor": 5
}
