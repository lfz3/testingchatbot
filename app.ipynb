{
 "cells": [
  {
   "cell_type": "markdown",
   "id": "3136492b-3306-4c4a-926a-b59f47dbff52",
   "metadata": {},
   "source": [
    "## start of app code to produce the chatbot"
   ]
  },
  {
   "cell_type": "code",
   "execution_count": 25,
   "id": "baf73c7f-df4c-4b13-a0d5-0ff5f71d15c7",
   "metadata": {},
   "outputs": [],
   "source": [
    "from model import NeuralNet\n",
    "from nltk_utils import bag_of_words, tokenize\n",
    "import torch\n",
    "import random\n",
    "import json\n",
    "import warnings\n",
    "import sys\n",
    "from datetime import datetime\n",
    "from tkinter import *\n",
    "from chat import get_response\n",
    "# Suppress all warnings\n",
    "warnings.filterwarnings(\"ignore\")"
   ]
  },
  {
   "cell_type": "code",
   "execution_count": 26,
   "id": "bb70fc55-e79a-4015-b07c-c788fdde52db",
   "metadata": {},
   "outputs": [
    {
     "name": "stdout",
     "output_type": "stream",
     "text": [
      "2023-12-12 15:27:07\n",
      "C:\\Users\\Admin\\anaconda3\\envs\\pyenv\n",
      "cuda\n"
     ]
    }
   ],
   "source": [
    "#print out diff sys variables\n",
    "device = torch.device('cuda' if torch.cuda.is_available() else 'cpu')\n",
    "# Get the current date and time\n",
    "current_datetime = datetime.now()\n",
    "formatted_datetime = current_datetime.strftime(\"%Y-%m-%d %H:%M:%S\")\n",
    "print(formatted_datetime)\n",
    "print(sys.prefix)\n",
    "print(device)"
   ]
  },
  {
   "cell_type": "code",
   "execution_count": 27,
   "id": "3256d3d6-f0a2-4321-9ca2-b94b3e1d8283",
   "metadata": {},
   "outputs": [],
   "source": [
    "\n",
    "\n",
    "BG_BOTTOM_LABEL = \"#240E16\"\n",
    "BG_COLOR = \"#17202A\"\n",
    "TEXT_COLOR = \"#EAECEE\"\n",
    "HEAD_LABEL_COLOR = \"#27405D\"\n",
    "\n",
    "FONT = \"Helvetica 14\"\n",
    "FONT_BOLD = \"Helvetica 13 bold\"\n"
   ]
  },
  {
   "cell_type": "code",
   "execution_count": 28,
   "id": "8d4116de-d22e-4cb5-88f6-ad6aa1fbc87a",
   "metadata": {},
   "outputs": [],
   "source": [
    "class ChatApp:\n",
    "\n",
    "    def __init__(self):\n",
    "        self.window = Tk()\n",
    "        self._setup_main_window()\n",
    "\n",
    "    def _setup_main_window(self):\n",
    "        self.window.title(\"ChatBot\")\n",
    "        self.window.resizable(width=True, height=True)\n",
    "        self.window.configure(width=600, height=800, bg=BG_COLOR)\n",
    "\n",
    "        head_label = Label(self.window, bg=HEAD_LABEL_COLOR, fg=TEXT_COLOR, text=\"Hello CSU Global!\",\n",
    "                           font=FONT_BOLD, pady=20)\n",
    "        head_label.place(relwidth=1)\n",
    "\n",
    "        self.text_widget = Text(self.window, width=20, height=2, bg=BG_COLOR, fg=TEXT_COLOR,\n",
    "                                font=FONT, padx=5, pady=5)\n",
    "        self.text_widget.place(relheight=0.745, relwidth=1, rely=0.08)\n",
    "        self.text_widget.configure(cursor=\"arrow\", state=DISABLED)\n",
    "\n",
    "        scrollbar = Scrollbar(self.text_widget)\n",
    "        scrollbar.place(relheight=1, relx=0.974)\n",
    "        scrollbar.configure(command=self.text_widget.yview)\n",
    "\n",
    "        bottom_label = Label(self.window, bg=BG_BOTTOM_LABEL, height=80)\n",
    "        bottom_label.place(relwidth=1, rely=0.825)\n",
    "\n",
    "        self.msg_entry = Entry(bottom_label, bg=\"#2C3E50\", fg=TEXT_COLOR, font=FONT)\n",
    "        self.msg_entry.place(relwidth=0.74, relheight=0.06, rely=0.008, relx=0.011)\n",
    "        self.msg_entry.focus()\n",
    "        self.msg_entry.bind(\"<Return>\", self.on_enter_pressed)\n",
    "\n",
    "        send_button = Button(bottom_label, text=\"Send\", font=FONT_BOLD, width=20, bg=HEAD_LABEL_COLOR,\n",
    "                             command=lambda: self.on_enter_pressed(None))\n",
    "        send_button.place(relx=0.77, rely=0.008, relheight=0.06, relwidth=0.22)\n",
    "\n",
    "    def on_enter_pressed(self, event):\n",
    "        msg = self.msg_entry.get()\n",
    "        self.insert_message(msg, \"USER\")\n",
    "\n",
    "    def insert_message(self, msg, sender):\n",
    "        if not msg:\n",
    "            return\n",
    "\n",
    "        self.msg_entry.delete(0, END)\n",
    "        msg1 = f\"{sender}: {msg}\\n\\n\"\n",
    "        self.text_widget.configure(state=NORMAL)\n",
    "        self.text_widget.insert(END, msg1)\n",
    "        self.text_widget.configure(state=DISABLED)\n",
    "\n",
    "        msg2 = f\"BOT: {get_response(msg)}\\n\\n\"\n",
    "        self.text_widget.configure(state=NORMAL)\n",
    "        self.text_widget.insert(END, msg2)\n",
    "        self.text_widget.configure(state=DISABLED)\n",
    "\n",
    "        self.text_widget.see(END)\n",
    "\n",
    "    def run(self):\n",
    "        self.window.mainloop()\n",
    "\n",
    "if __name__ == \"__main__\":\n",
    "    app = ChatApp()\n",
    "    app.run()"
   ]
  },
  {
   "cell_type": "markdown",
   "id": "e41c170b-3382-488d-9e44-0e86acd6c90d",
   "metadata": {},
   "source": [
    "### end"
   ]
  },
  {
   "cell_type": "code",
   "execution_count": null,
   "id": "1549bc36-f977-458c-a753-7eba79ed85f1",
   "metadata": {},
   "outputs": [],
   "source": []
  }
 ],
 "metadata": {
  "kernelspec": {
   "display_name": "Python 3 (ipykernel)",
   "language": "python",
   "name": "python3"
  },
  "language_info": {
   "codemirror_mode": {
    "name": "ipython",
    "version": 3
   },
   "file_extension": ".py",
   "mimetype": "text/x-python",
   "name": "python",
   "nbconvert_exporter": "python",
   "pygments_lexer": "ipython3",
   "version": "3.8.18"
  }
 },
 "nbformat": 4,
 "nbformat_minor": 5
}
